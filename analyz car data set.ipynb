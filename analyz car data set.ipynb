{
 "cells": [
  {
   "cell_type": "code",
   "execution_count": 48,
   "id": "3ba812fc-d198-40db-9a97-5d0899448235",
   "metadata": {},
   "outputs": [
    {
     "data": {
      "text/html": [
       "<div>\n",
       "<style scoped>\n",
       "    .dataframe tbody tr th:only-of-type {\n",
       "        vertical-align: middle;\n",
       "    }\n",
       "\n",
       "    .dataframe tbody tr th {\n",
       "        vertical-align: top;\n",
       "    }\n",
       "\n",
       "    .dataframe thead th {\n",
       "        text-align: right;\n",
       "    }\n",
       "</style>\n",
       "<table border=\"1\" class=\"dataframe\">\n",
       "  <thead>\n",
       "    <tr style=\"text-align: right;\">\n",
       "      <th></th>\n",
       "      <th>CarID</th>\n",
       "      <th>Brand</th>\n",
       "      <th>Model</th>\n",
       "      <th>Year</th>\n",
       "      <th>Price</th>\n",
       "      <th>Mileage</th>\n",
       "      <th>Fuel</th>\n",
       "      <th>Color</th>\n",
       "      <th>Owner</th>\n",
       "      <th>Location</th>\n",
       "    </tr>\n",
       "  </thead>\n",
       "  <tbody>\n",
       "    <tr>\n",
       "      <th>0</th>\n",
       "      <td>1</td>\n",
       "      <td>NaN</td>\n",
       "      <td>Corolla</td>\n",
       "      <td>2012.0</td>\n",
       "      <td>50000.0</td>\n",
       "      <td>60000.0</td>\n",
       "      <td>NaN</td>\n",
       "      <td>Red</td>\n",
       "      <td>Third</td>\n",
       "      <td>Miami</td>\n",
       "    </tr>\n",
       "    <tr>\n",
       "      <th>1</th>\n",
       "      <td>2</td>\n",
       "      <td>Tesla</td>\n",
       "      <td>Corolla</td>\n",
       "      <td>NaN</td>\n",
       "      <td>25000.0</td>\n",
       "      <td>30000.0</td>\n",
       "      <td>Hybrid</td>\n",
       "      <td>Gray</td>\n",
       "      <td>NaN</td>\n",
       "      <td>NaN</td>\n",
       "    </tr>\n",
       "    <tr>\n",
       "      <th>2</th>\n",
       "      <td>3</td>\n",
       "      <td>Honda</td>\n",
       "      <td>Model S</td>\n",
       "      <td>2018.0</td>\n",
       "      <td>40000.0</td>\n",
       "      <td>45000.0</td>\n",
       "      <td>Diesel</td>\n",
       "      <td>Red</td>\n",
       "      <td>NaN</td>\n",
       "      <td>NaN</td>\n",
       "    </tr>\n",
       "    <tr>\n",
       "      <th>3</th>\n",
       "      <td>4</td>\n",
       "      <td>NaN</td>\n",
       "      <td>Mustang</td>\n",
       "      <td>2012.0</td>\n",
       "      <td>NaN</td>\n",
       "      <td>NaN</td>\n",
       "      <td>Petrol</td>\n",
       "      <td>White</td>\n",
       "      <td>Second</td>\n",
       "      <td>Houston</td>\n",
       "    </tr>\n",
       "    <tr>\n",
       "      <th>4</th>\n",
       "      <td>5</td>\n",
       "      <td>BMW</td>\n",
       "      <td>Civic</td>\n",
       "      <td>2015.0</td>\n",
       "      <td>20000.0</td>\n",
       "      <td>75000.0</td>\n",
       "      <td>Petrol</td>\n",
       "      <td>White</td>\n",
       "      <td>First</td>\n",
       "      <td>Los Angeles</td>\n",
       "    </tr>\n",
       "  </tbody>\n",
       "</table>\n",
       "</div>"
      ],
      "text/plain": [
       "   CarID  Brand     Model    Year    Price  Mileage      Fuel  Color   Owner  \\\n",
       "0      1    NaN   Corolla  2012.0  50000.0  60000.0       NaN    Red   Third   \n",
       "1      2  Tesla   Corolla     NaN  25000.0  30000.0    Hybrid   Gray     NaN   \n",
       "2      3  Honda   Model S  2018.0  40000.0  45000.0   Diesel     Red     NaN   \n",
       "3      4    NaN  Mustang   2012.0      NaN      NaN    Petrol  White  Second   \n",
       "4      5    BMW     Civic  2015.0  20000.0  75000.0    Petrol  White   First   \n",
       "\n",
       "      Location  \n",
       "0        Miami  \n",
       "1          NaN  \n",
       "2          NaN  \n",
       "3      Houston  \n",
       "4  Los Angeles  "
      ]
     },
     "execution_count": 48,
     "metadata": {},
     "output_type": "execute_result"
    }
   ],
   "source": [
    "import pandas as pd \n",
    "import numpy as np\n",
    "import matplotlib.pyplot as plt\n",
    "from sklearn.model_selection import train_test_split\n",
    "from sklearn.linear_model import LinearRegression\n",
    "df=pd.read_csv(\"car_dataset.csv\")\n",
    "df.head()"
   ]
  },
  {
   "cell_type": "code",
   "execution_count": 35,
   "id": "84fe62d3-cea1-4a27-a836-2f3905089a7e",
   "metadata": {},
   "outputs": [
    {
     "name": "stdout",
     "output_type": "stream",
     "text": [
      "Number of rows: 52000\n",
      "Number of columns: 10\n"
     ]
    }
   ],
   "source": [
    "print(\"Number of rows:\", df.shape[0]) \n",
    "print(\"Number of columns:\", df.shape[1])"
   ]
  },
  {
   "cell_type": "code",
   "execution_count": 2,
   "id": "cf94a7bf-4aa7-4041-afce-ac44e7f83d5e",
   "metadata": {},
   "outputs": [
    {
     "name": "stdout",
     "output_type": "stream",
     "text": [
      "Column names: Index(['CarID', 'Brand', 'Model', 'Year', 'Price', 'Mileage', 'Fuel', 'Color',\n",
      "       'Owner', 'Location'],\n",
      "      dtype='object')\n"
     ]
    }
   ],
   "source": [
    "print(\"Column names:\", df.columns)"
   ]
  },
  {
   "cell_type": "code",
   "execution_count": 3,
   "id": "8e2271a9-d354-4b66-a8cb-d6b83a45ea0a",
   "metadata": {},
   "outputs": [
    {
     "name": "stdout",
     "output_type": "stream",
     "text": [
      "Missing values in Brand: 6585\n",
      "Missing values in Model: 7527\n",
      "Missing values in Year: 8676\n",
      "Missing values in Price: 7329\n",
      "Missing values in Mileage: 7499\n",
      "Missing values in Fuel: 10399\n",
      "Missing values in Color: 7344\n",
      "Missing values in Owner: 13013\n",
      "Missing values in Location: 7527\n"
     ]
    }
   ],
   "source": [
    "missing_brand = df[\"Brand\"].isnull().sum()\n",
    "missing_model = df[\"Model\"].isnull().sum()\n",
    "missing_year = df[\"Year\"].isnull().sum()\n",
    "missing_price = df[\"Price\"].isnull().sum()\n",
    "missing_mileage = df[\"Mileage\"].isnull().sum()\n",
    "missing_fuel = df[\"Fuel\"].isnull().sum()\n",
    "missing_color = df[\"Color\"].isnull().sum()\n",
    "missing_owner = df[\"Owner\"].isnull().sum()\n",
    "missing_location = df[\"Location\"].isnull().sum()\n",
    "\n",
    "print(\"Missing values in Brand:\", missing_brand)\n",
    "print(\"Missing values in Model:\", missing_model)\n",
    "print(\"Missing values in Year:\", missing_year)\n",
    "print(\"Missing values in Price:\", missing_price)\n",
    "print(\"Missing values in Mileage:\", missing_mileage)\n",
    "print(\"Missing values in Fuel:\", missing_fuel)\n",
    "print(\"Missing values in Color:\", missing_color)\n",
    "print(\"Missing values in Owner:\", missing_owner)\n",
    "print(\"Missing values in Location:\", missing_location)\n"
   ]
  },
  {
   "cell_type": "code",
   "execution_count": 4,
   "id": "1568b9e1-1f0b-47e8-87b9-3d82a74d5145",
   "metadata": {},
   "outputs": [
    {
     "name": "stdout",
     "output_type": "stream",
     "text": [
      "Rows before removing duplicates: 52000\n",
      "Rows after removing duplicates: 50000\n"
     ]
    }
   ],
   "source": [
    "rows_before = df.shape[0]\n",
    "df = df.drop_duplicates()\n",
    "rows_after = df.shape[0]\n",
    "print(\"Rows before removing duplicates:\", rows_before)\n",
    "print(\"Rows after removing duplicates:\", rows_after)"
   ]
  },
  {
   "cell_type": "code",
   "execution_count": 5,
   "id": "3bbd974d-c0ce-4e4d-bd28-53b426a6c0ce",
   "metadata": {},
   "outputs": [
    {
     "name": "stdout",
     "output_type": "stream",
     "text": [
      "Whitespace removed from text columns.\n"
     ]
    }
   ],
   "source": [
    "df[\"Brand\"] = df[\"Brand\"].str.strip()\n",
    "df[\"Model\"] = df[\"Model\"].str.strip()\n",
    "df[\"Fuel\"] = df[\"Fuel\"].str.strip()\n",
    "df[\"Location\"] = df[\"Location\"].str.strip()\n",
    "\n",
    "print(\"Whitespace removed from text columns.\")\n"
   ]
  },
  {
   "cell_type": "code",
   "execution_count": 6,
   "id": "0c987dd5-7bb9-4df8-9f25-91d11ef5df32",
   "metadata": {},
   "outputs": [
    {
     "name": "stdout",
     "output_type": "stream",
     "text": [
      "Missing values filled with default values.\n"
     ]
    }
   ],
   "source": [
    "df[\"Brand\"] = df[\"Brand\"].fillna(\"Unknown\")\n",
    "df[\"Model\"] = df[\"Model\"].fillna(\"Unknown Model\")\n",
    "df[\"Year\"] = df[\"Year\"].fillna(0)  # Replace missing years with 0\n",
    "df[\"Price\"] = df[\"Price\"].fillna(0)  # Replace missing prices with 0\n",
    "df[\"Mileage\"] = df[\"Mileage\"].fillna(0)  # Replace missing mileage with 0\n",
    "df[\"Fuel\"] = df[\"Fuel\"].fillna(\"Unknown Fuel\")\n",
    "df[\"Color\"] = df[\"Color\"].fillna(\"Unknown Color\")\n",
    "df[\"Owner\"] = df[\"Owner\"].fillna(\"Unknown Owner\")\n",
    "df[\"Location\"] = df[\"Location\"].fillna(\"Unknown Location\")\n",
    "\n",
    "print(\"Missing values filled with default values.\")"
   ]
  },
  {
   "cell_type": "code",
   "execution_count": 7,
   "id": "b6fce82a-cfa4-4d4b-b27d-10390030ee9a",
   "metadata": {},
   "outputs": [
    {
     "data": {
      "text/plain": [
       "CarID       0\n",
       "Brand       0\n",
       "Model       0\n",
       "Year        0\n",
       "Price       0\n",
       "Mileage     0\n",
       "Fuel        0\n",
       "Color       0\n",
       "Owner       0\n",
       "Location    0\n",
       "dtype: int64"
      ]
     },
     "execution_count": 7,
     "metadata": {},
     "output_type": "execute_result"
    }
   ],
   "source": [
    "df.isnull().sum()"
   ]
  },
  {
   "cell_type": "code",
   "execution_count": 8,
   "id": "5b77c01f-531c-4bf3-a096-4bcc74e7a738",
   "metadata": {},
   "outputs": [
    {
     "name": "stdout",
     "output_type": "stream",
     "text": [
      "Data types adjusted for numeric columns.\n"
     ]
    }
   ],
   "source": [
    "df[\"Year\"] = df[\"Year\"].astype(int)\n",
    "df[\"Price\"] = df[\"Price\"].astype(int)\n",
    "df[\"Mileage\"] = df[\"Mileage\"].astype(int)\n",
    "\n",
    "print(\"Data types adjusted for numeric columns.\")\n"
   ]
  },
  {
   "cell_type": "code",
   "execution_count": 11,
   "id": "2c0a4ea9-fd63-466f-9349-468b79c6ea29",
   "metadata": {},
   "outputs": [
    {
     "name": "stdout",
     "output_type": "stream",
     "text": [
      "Total number of cars: 50000\n",
      "Most common brand: Honda\n",
      "Average price of cars: 32157.0\n",
      "Most common fuel type: Diesel\n"
     ]
    }
   ],
   "source": [
    "total_cars = len(df)\n",
    "most_common_brand = df[\"Brand\"].mode()[0]\n",
    "average_price = df[\"Price\"].mean()\n",
    "most_common_fuel = df[\"Fuel\"].mode()[0]\n",
    "print(\"Total number of cars:\", total_cars)\n",
    "print(\"Most common brand:\", most_common_brand)\n",
    "print(\"Average price of cars:\", average_price)\n",
    "print(\"Most common fuel type:\", most_common_fuel)"
   ]
  },
  {
   "cell_type": "code",
   "execution_count": 12,
   "id": "a444aa06-a421-4077-9dbc-d0d8b7b4e47c",
   "metadata": {},
   "outputs": [
    {
     "data": {
      "text/html": [
       "<div>\n",
       "<style scoped>\n",
       "    .dataframe tbody tr th:only-of-type {\n",
       "        vertical-align: middle;\n",
       "    }\n",
       "\n",
       "    .dataframe tbody tr th {\n",
       "        vertical-align: top;\n",
       "    }\n",
       "\n",
       "    .dataframe thead th {\n",
       "        text-align: right;\n",
       "    }\n",
       "</style>\n",
       "<table border=\"1\" class=\"dataframe\">\n",
       "  <thead>\n",
       "    <tr style=\"text-align: right;\">\n",
       "      <th></th>\n",
       "      <th>CarID</th>\n",
       "      <th>Year</th>\n",
       "      <th>Price</th>\n",
       "      <th>Mileage</th>\n",
       "    </tr>\n",
       "  </thead>\n",
       "  <tbody>\n",
       "    <tr>\n",
       "      <th>count</th>\n",
       "      <td>50000.000000</td>\n",
       "      <td>50000.000000</td>\n",
       "      <td>50000.00000</td>\n",
       "      <td>50000.00000</td>\n",
       "    </tr>\n",
       "    <tr>\n",
       "      <th>mean</th>\n",
       "      <td>25000.500000</td>\n",
       "      <td>1678.984960</td>\n",
       "      <td>32157.00000</td>\n",
       "      <td>46228.50000</td>\n",
       "    </tr>\n",
       "    <tr>\n",
       "      <th>std</th>\n",
       "      <td>14433.901067</td>\n",
       "      <td>751.132261</td>\n",
       "      <td>18451.12896</td>\n",
       "      <td>32246.22589</td>\n",
       "    </tr>\n",
       "    <tr>\n",
       "      <th>min</th>\n",
       "      <td>1.000000</td>\n",
       "      <td>0.000000</td>\n",
       "      <td>0.00000</td>\n",
       "      <td>0.00000</td>\n",
       "    </tr>\n",
       "    <tr>\n",
       "      <th>25%</th>\n",
       "      <td>12500.750000</td>\n",
       "      <td>2010.000000</td>\n",
       "      <td>20000.00000</td>\n",
       "      <td>15000.00000</td>\n",
       "    </tr>\n",
       "    <tr>\n",
       "      <th>50%</th>\n",
       "      <td>25000.500000</td>\n",
       "      <td>2012.000000</td>\n",
       "      <td>30000.00000</td>\n",
       "      <td>45000.00000</td>\n",
       "    </tr>\n",
       "    <tr>\n",
       "      <th>75%</th>\n",
       "      <td>37500.250000</td>\n",
       "      <td>2018.000000</td>\n",
       "      <td>50000.00000</td>\n",
       "      <td>75000.00000</td>\n",
       "    </tr>\n",
       "    <tr>\n",
       "      <th>max</th>\n",
       "      <td>50000.000000</td>\n",
       "      <td>2020.000000</td>\n",
       "      <td>60000.00000</td>\n",
       "      <td>100000.00000</td>\n",
       "    </tr>\n",
       "  </tbody>\n",
       "</table>\n",
       "</div>"
      ],
      "text/plain": [
       "              CarID          Year        Price       Mileage\n",
       "count  50000.000000  50000.000000  50000.00000   50000.00000\n",
       "mean   25000.500000   1678.984960  32157.00000   46228.50000\n",
       "std    14433.901067    751.132261  18451.12896   32246.22589\n",
       "min        1.000000      0.000000      0.00000       0.00000\n",
       "25%    12500.750000   2010.000000  20000.00000   15000.00000\n",
       "50%    25000.500000   2012.000000  30000.00000   45000.00000\n",
       "75%    37500.250000   2018.000000  50000.00000   75000.00000\n",
       "max    50000.000000   2020.000000  60000.00000  100000.00000"
      ]
     },
     "execution_count": 12,
     "metadata": {},
     "output_type": "execute_result"
    }
   ],
   "source": [
    "df.describe()"
   ]
  },
  {
   "cell_type": "code",
   "execution_count": 14,
   "id": "d9dc5bc0-73db-4967-b965-c7e5bced42ca",
   "metadata": {},
   "outputs": [
    {
     "name": "stdout",
     "output_type": "stream",
     "text": [
      "Cars priced above 40,000:\n",
      "       CarID    Brand          Model  Year  Price  Mileage          Fuel  \\\n",
      "0          1  Unknown        Corolla  2012  50000    60000  Unknown Fuel   \n",
      "5          6  Hyundai  Unknown Model     0  60000   100000        Hybrid   \n",
      "12        13      BMW  Unknown Model  2020  50000    45000  Unknown Fuel   \n",
      "13        14      BMW        Model S     0  50000    60000        Diesel   \n",
      "18        19  Hyundai        Corolla  2020  60000    15000  Unknown Fuel   \n",
      "...      ...      ...            ...   ...    ...      ...           ...   \n",
      "49980  49981    Honda        Mustang  2012  60000        0        Hybrid   \n",
      "49981  49982      BMW          Focus  2010  50000   100000      Electric   \n",
      "49986  49987  Hyundai        Corolla     0  50000   100000        Hybrid   \n",
      "49992  49993    Honda        Model S  2020  60000    30000      Electric   \n",
      "49996  49997  Hyundai        Mustang  2015  60000    60000        Diesel   \n",
      "\n",
      "               Color          Owner          Location  \n",
      "0                Red          Third             Miami  \n",
      "5               Blue          Third           Houston  \n",
      "12             White          Third       Los Angeles  \n",
      "13              Gray         Second       Los Angeles  \n",
      "18              Blue  Unknown Owner           Phoenix  \n",
      "...              ...            ...               ...  \n",
      "49980          White         Second           Chicago  \n",
      "49981          White          Third           Houston  \n",
      "49986  Unknown Color          First           Chicago  \n",
      "49992         Silver  Unknown Owner           Houston  \n",
      "49996          White          Third  Unknown Location  \n",
      "\n",
      "[14213 rows x 10 columns]\n"
     ]
    },
    {
     "data": {
      "text/plain": [
       "14213"
      ]
     },
     "execution_count": 14,
     "metadata": {},
     "output_type": "execute_result"
    }
   ],
   "source": [
    "expensive_cars = df[df[\"Price\"] > 40000]\n",
    "print(\"Cars priced above 40,000:\")\n",
    "print(expensive_cars)\n",
    "len(expensive_cars)"
   ]
  },
  {
   "cell_type": "code",
   "execution_count": 15,
   "id": "8f96b22b-bf47-43f1-8bef-f3dbda70daac",
   "metadata": {},
   "outputs": [
    {
     "name": "stdout",
     "output_type": "stream",
     "text": [
      "Cars manufactured after 2015:\n",
      "       CarID    Brand          Model  Year  Price  Mileage          Fuel  \\\n",
      "2          3    Honda        Model S  2018  40000    45000        Diesel   \n",
      "6          7    Honda  Unknown Model  2020      0    45000        Petrol   \n",
      "8          9  Unknown        Mustang  2018  40000   100000        Hybrid   \n",
      "11        12  Unknown          Focus  2020  25000    15000        Diesel   \n",
      "12        13      BMW  Unknown Model  2020  50000    45000  Unknown Fuel   \n",
      "...      ...      ...            ...   ...    ...      ...           ...   \n",
      "49973  49974  Hyundai  Unknown Model  2020  25000    60000        Diesel   \n",
      "49983  49984   Toyota        Model S  2020  30000   100000        Diesel   \n",
      "49991  49992    Tesla         Accord  2020  20000    60000        Diesel   \n",
      "49992  49993    Honda        Model S  2020  60000    30000      Electric   \n",
      "49997  49998      BMW  Unknown Model  2020  40000    15000        Diesel   \n",
      "\n",
      "               Color          Owner          Location  \n",
      "2                Red  Unknown Owner  Unknown Location  \n",
      "6             Silver  Unknown Owner           Phoenix  \n",
      "8      Unknown Color          First       Los Angeles  \n",
      "11             Black  Unknown Owner           Chicago  \n",
      "12             White          Third       Los Angeles  \n",
      "...              ...            ...               ...  \n",
      "49973          Black  Unknown Owner           Chicago  \n",
      "49983  Unknown Color         Second             Miami  \n",
      "49991         Silver  Unknown Owner           Phoenix  \n",
      "49992         Silver  Unknown Owner           Houston  \n",
      "49997         Silver  Unknown Owner  Unknown Location  \n",
      "\n",
      "[16704 rows x 10 columns]\n"
     ]
    }
   ],
   "source": [
    "recent_cars = df[df[\"Year\"] > 2015]\n",
    "print(\"Cars manufactured after 2015:\")\n",
    "print(recent_cars)"
   ]
  },
  {
   "cell_type": "code",
   "execution_count": 16,
   "id": "68643c1a-a35e-40f8-8466-ffadbbf3d25c",
   "metadata": {},
   "outputs": [
    {
     "name": "stdout",
     "output_type": "stream",
     "text": [
      "Cleaned dataset saved as: cleaned_car_dataset.csv\n"
     ]
    }
   ],
   "source": [
    "cleaned_file = \"cleaned_car_dataset.csv\"\n",
    "df.to_csv(cleaned_file, index=False)\n",
    "\n",
    "print(\"Cleaned dataset saved as:\", cleaned_file)"
   ]
  },
  {
   "cell_type": "code",
   "execution_count": 17,
   "id": "bdde6e51-13b7-4d73-b1bb-8205906a1b76",
   "metadata": {},
   "outputs": [
    {
     "name": "stdout",
     "output_type": "stream",
     "text": [
      "Mean Price: 32157.0\n",
      "Median Price: 30000.0\n",
      "Standard Deviation of Price: 18451.128959583955\n",
      "Mean Mileage: 46228.5\n",
      "Median Mileage: 45000.0\n",
      "Standard Deviation of Mileage: 32246.225889732934\n"
     ]
    }
   ],
   "source": [
    "mean_price = df[\"Price\"].mean()\n",
    "median_price = df[\"Price\"].median()\n",
    "std_price = df[\"Price\"].std()\n",
    "\n",
    "print(\"Mean Price:\", mean_price)\n",
    "print(\"Median Price:\", median_price)\n",
    "print(\"Standard Deviation of Price:\", std_price)\n",
    "\n",
    "mean_mileage = df[\"Mileage\"].mean()\n",
    "median_mileage = df[\"Mileage\"].median()\n",
    "std_mileage = df[\"Mileage\"].std()\n",
    "\n",
    "print(\"Mean Mileage:\", mean_mileage)\n",
    "print(\"Median Mileage:\", median_mileage)\n",
    "print(\"Standard Deviation of Mileage:\", std_mileage)\n"
   ]
  },
  {
   "cell_type": "code",
   "execution_count": 14,
   "id": "ba16c1e9-f02b-4a24-b2bd-2f8c6a826ed4",
   "metadata": {},
   "outputs": [
    {
     "data": {
      "image/png": "[encoded data removed]",
      "text/plain": [
       "<Figure size 640x480 with 1 Axes>"
      ]
     },
     "metadata": {},
     "output_type": "display_data"
    }
   ],
   "source": [
    "\n",
    "plt.hist(df[\"Price\"], bins=20, color='green', edgecolor='black')\n",
    "plt.title(\"Price Distribution\")\n",
    "plt.xlabel(\"Price\")\n",
    "plt.ylabel(\"Frequency\")\n",
    "plt.show()"
   ]
  },
  {
   "cell_type": "code",
   "execution_count": 28,
   "id": "8ef904e2-ceaa-45e6-a68d-e9f668a0c355",
   "metadata": {},
   "outputs": [
    {
     "data": {
      "image/png": "[encoded data removed]",
      "text/plain": [
       "<Figure size 640x480 with 1 Axes>"
      ]
     },
     "metadata": {},
     "output_type": "display_data"
    }
   ],
   "source": [
    "plt.scatter(df[\"Mileage\"], df[\"Price\"], alpha=0.5, color='red')\n",
    "plt.title(\"Price vs Mileage\")\n",
    "plt.xlabel(\"Mileage\")\n",
    "plt.ylabel(\"Price\")\n",
    "plt.show()"
   ]
  },
  {
   "cell_type": "code",
   "execution_count": 15,
   "id": "b129c346-1fc6-4bdc-ac2d-9a758cc98f08",
   "metadata": {},
   "outputs": [
    {
     "name": "stdout",
     "output_type": "stream",
     "text": [
      "Correlation between Price and Mileage: 0.0023068520337731777\n",
      "Correlation between Price and Year: 0.005955704729529574\n"
     ]
    }
   ],
   "source": [
    "\n",
    "correlation_price_mileage = df[\"Price\"].corr(df[\"Mileage\"])\n",
    "print(\"Correlation between Price and Mileage:\", correlation_price_mileage)\n",
    "correlation_price_year = df[\"Price\"].corr(df[\"Year\"])\n",
    "print(\"Correlation between Price and Year:\", correlation_price_year)"
   ]
  },
  {
   "cell_type": "code",
   "execution_count": 17,
   "id": "f3f06f87-006c-4850-ab69-545af6abbff1",
   "metadata": {},
   "outputs": [
    {
     "name": "stdout",
     "output_type": "stream",
     "text": [
      "Average Price by Brand:\n",
      "Brand\n",
      " Nissan     37373.188406\n",
      "BMW         37641.544118\n",
      "Ford        37618.282450\n",
      "Honda       37610.642782\n",
      "Hyundai     37467.381591\n",
      "Tesla       37225.201072\n",
      "Toyota      37275.911622\n",
      "Name: Price, dtype: float64\n",
      "Average Mileage by Fuel Type:\n",
      "Fuel\n",
      " Diesel     54327.039859\n",
      "Electric    53912.549688\n",
      "Hybrid      54127.355860\n",
      "Petrol      54062.821245\n",
      "Name: Mileage, dtype: float64\n"
     ]
    }
   ],
   "source": [
    "\n",
    "avg_price_by_brand = df.groupby(\"Brand\")[\"Price\"].mean()\n",
    "print(\"Average Price by Brand:\")\n",
    "print(avg_price_by_brand)\n",
    "\n",
    "# Average mileage by Fuel type\n",
    "avg_mileage_by_fuel = df.groupby(\"Fuel\")[\"Mileage\"].mean()\n",
    "print(\"Average Mileage by Fuel Type:\")\n",
    "print(avg_mileage_by_fuel)\n"
   ]
  },
  {
   "cell_type": "code",
   "execution_count": 20,
   "id": "44da6c7f-2771-46e1-b829-8f1e1009ab6b",
   "metadata": {},
   "outputs": [],
   "source": [
    "df[\"Brand_Code\"] = df[\"Brand\"].astype(\"category\").cat.codes\n",
    "df[\"Fuel_Code\"] = df[\"Fuel\"].astype(\"category\").cat.codes\n",
    "df[\"Location_Code\"] = df[\"Location\"].astype(\"category\").cat.codes"
   ]
  },
  {
   "cell_type": "code",
   "execution_count": 21,
   "id": "cad0cfd4-b18e-4cfb-93aa-dc2e8048073f",
   "metadata": {},
   "outputs": [],
   "source": [
    "X = df[[\"Year\", \"Mileage\", \"Brand_Code\", \"Fuel_Code\"]] \n",
    "y = df[\"Price\"] "
   ]
  },
  {
   "cell_type": "code",
   "execution_count": 24,
   "id": "78c1f721-3ce0-4349-b29b-33f51866116d",
   "metadata": {},
   "outputs": [
    {
     "name": "stdout",
     "output_type": "stream",
     "text": [
      "Year          6943\n",
      "Mileage       6041\n",
      "Brand_Code       0\n",
      "Fuel_Code        0\n",
      "dtype: int64\n",
      "5816\n"
     ]
    }
   ],
   "source": [
    "import pandas as pd\n",
    "\n",
    "print(X_train.isnull().sum())  \n",
    "print(y_train.isnull().sum())  \n",
    "from sklearn.impute import SimpleImputer\n",
    "\n",
    "imputer = SimpleImputer(strategy='mean')  \n",
    "X_test = imputer.transform(X_test)  \n"
   ]
  },
  {
   "cell_type": "code",
   "execution_count": 33,
   "id": "9bfb1a17-df3c-48a7-99db-70173ca72b87",
   "metadata": {},
   "outputs": [],
   "source": [
    "from sklearn.impute import SimpleImputer\n",
    "\n",
    "imputer = SimpleImputer(strategy='mean')  \n",
    "X_test = imputer.fit_transform(X_test)\n",
    "y_test = imputer.fit_transform(y_test.values.reshape(-1, 1)).ravel()  # Keep 1D shape\n"
   ]
  },
  {
   "cell_type": "code",
   "execution_count": 34,
   "id": "957cc3d9-818a-44fb-9771-f4f51881a69d",
   "metadata": {},
   "outputs": [
    {
     "name": "stdout",
     "output_type": "stream",
     "text": [
      "Model Coefficients: [ 1.79951847e+01  3.67348170e-03 -4.51481852e+01  2.07630412e+01]\n",
      "Model Intercept: 1088.8412303281802\n"
     ]
    }
   ],
   "source": [
    "from sklearn.linear_model import LinearRegression\n",
    "model = LinearRegression()\n",
    "model.fit(X_train, y_train)\n",
    "print(\"Model Coefficients:\", model.coef_)\n",
    "print(\"Model Intercept:\", model.intercept_)"
   ]
  },
  {
   "cell_type": "code",
   "execution_count": 35,
   "id": "596f343e-2b96-4276-a0f8-e9a94a0bdf31",
   "metadata": {},
   "outputs": [
    {
     "name": "stdout",
     "output_type": "stream",
     "text": [
      "Mean Squared Error: 168786214.1499585\n",
      "R-squared: -0.0005346201802873818\n"
     ]
    }
   ],
   "source": [
    "from sklearn.metrics import mean_squared_error, r2_score\n",
    "y_pred = model.predict(X_test)\n",
    "mse = mean_squared_error(y_test, y_pred)\n",
    "r2 = r2_score(y_test, y_pred)\n",
    "print(\"Mean Squared Error:\", mse)\n",
    "print(\"R-squared:\", r2)\n"
   ]
  },
  {
   "cell_type": "code",
   "execution_count": 32,
   "id": "f2ce80a9-4e2f-49af-a668-700304ac437a",
   "metadata": {},
   "outputs": [
    {
     "data": {
      "text/plain": [
       "array([37509.64759959, 37279.8668149 , 37424.68325337, ...,\n",
       "       37611.07341791, 37560.12780905, 37231.09652692])"
      ]
     },
     "execution_count": 32,
     "metadata": {},
     "output_type": "execute_result"
    }
   ],
   "source": [
    "y_pred"
   ]
  },
  {
   "cell_type": "code",
   "execution_count": 36,
   "id": "aa745839-75f1-4aea-b3e4-d80cd31ce6c3",
   "metadata": {},
   "outputs": [
    {
     "data": {
      "text/plain": [
       "array([25000.        , 37523.91133116, 20000.        , ...,\n",
       "       20000.        , 50000.        , 30000.        ])"
      ]
     },
     "execution_count": 36,
     "metadata": {},
     "output_type": "execute_result"
    }
   ],
   "source": [
    "y_test"
   ]
  },
  {
   "cell_type": "code",
   "execution_count": 57,
   "id": "5db7ed56-a9f1-4240-b450-8d30b2bf9ed6",
   "metadata": {},
   "outputs": [
    {
     "name": "stdout",
     "output_type": "stream",
     "text": [
      "Predictions saved to 'car_price_predictions.csv'\n"
     ]
    }
   ],
   "source": [
    "import pandas as pd\n",
    "\n",
    "\n",
    "X_test_df = pd.DataFrame(X_test, columns=[\"feature1\", \"Feature2\", \"Feature3\", \"Feature4\"])  \n",
    "\n",
    "# Convert y_test and y_pred into Pandas Series\n",
    "y_test_series = pd.Series(y_test, name=\"Actual Price\")\n",
    "y_pred_series = pd.Series(y_pred, name=\"Predicted Price\")\n",
    "\n",
    "# Combine all data into one DataFrame\n",
    "predictions = X_test_df.copy()\n",
    "predictions[\"Actual Price\"] = y_test_series.values\n",
    "predictions[\"Predicted Price\"] = y_pred_series.values\n",
    "\n",
    "# Save to CSV\n",
    "predictions.to_csv(\"car_price_predictions.csv\", index=False)\n",
    "print(\"Predictions saved to 'car_price_predictions.csv'\")\n"
   ]
  },
  {
   "cell_type": "code",
   "execution_count": 58,
   "id": "9ca3f1fc-e307-44d4-85e2-e369431fcfee",
   "metadata": {},
   "outputs": [
    {
     "name": "stdout",
     "output_type": "stream",
     "text": [
      "[[ 0.42770686  0.96634019]\n",
      " [-0.50312839 -0.38997799]\n",
      " [-0.03771076  0.42381291]\n",
      " ...\n",
      " [ 0.89312449  0.96634019]\n",
      " [-1.43396364 -0.11871436]\n",
      " [ 0.42770686 -0.38997799]]\n",
      "Data prepared for clustering.\n"
     ]
    }
   ],
   "source": [
    "from sklearn.preprocessing import StandardScaler\n",
    "from sklearn.cluster import KMeans\n",
    "clustering_features = df[[\"Mileage\", \"Price\"]].fillna(0)  # Replace missing values with 0\n",
    "scaler = StandardScaler()\n",
    "clustering_features_scaled = scaler.fit_transform(clustering_features)\n",
    "print(clustering_features_scaled)\n",
    "print(\"Data prepared for clustering.\")\n"
   ]
  },
  {
   "cell_type": "code",
   "execution_count": 60,
   "id": "70f3385b-6c2f-4ffb-bf41-44fd74787e6c",
   "metadata": {},
   "outputs": [
    {
     "name": "stdout",
     "output_type": "stream",
     "text": [
      "Clustering completed. Assigned clusters to each row.\n"
     ]
    }
   ],
   "source": [
    "kmeans = KMeans(n_clusters=3, random_state=42)\n",
    "df[\"Cluster\"] = kmeans.fit_predict(clustering_features_scaled)\n",
    "\n",
    "print(\"Clustering completed. Assigned clusters to each row.\")"
   ]
  },
  {
   "cell_type": "code",
   "execution_count": 61,
   "id": "9c4ba90f-c056-4bbe-905f-b380b4322acd",
   "metadata": {},
   "outputs": [
    {
     "data": {
      "image/png": "[encoded data removed]",
      "text/plain": [
       "<Figure size 640x480 with 2 Axes>"
      ]
     },
     "metadata": {},
     "output_type": "display_data"
    }
   ],
   "source": [
    "\n",
    "plt.scatter(df[\"Mileage\"], df[\"Price\"], c=df[\"Cluster\"], cmap=\"viridis\",\n",
    "            alpha=0.5)\n",
    "plt.title(\"Clusters of Cars Based on Mileage and Price\")\n",
    "plt.xlabel(\"Mileage\")\n",
    "plt.ylabel(\"Price\")\n",
    "plt.colorbar(label=\"Cluster\")\n",
    "plt.show()"
   ]
  },
  {
   "cell_type": "code",
   "execution_count": 62,
   "id": "6f0a0ec9-0ef8-4dbf-a877-0fa419fc9888",
   "metadata": {},
   "outputs": [
    {
     "name": "stdout",
     "output_type": "stream",
     "text": [
      "Random Forest model trained successfully.\n"
     ]
    }
   ],
   "source": [
    "from sklearn.ensemble import RandomForestRegressor\n",
    "rf_model = RandomForestRegressor(n_estimators=100, random_state=42)\n",
    "rf_model.fit(X_train, y_train)\n",
    "\n",
    "print(\"Random Forest model trained successfully.\")"
   ]
  },
  {
   "cell_type": "code",
   "execution_count": 63,
   "id": "e9750318-acf6-43f8-a72b-6d9de83ea61a",
   "metadata": {},
   "outputs": [
    {
     "name": "stdout",
     "output_type": "stream",
     "text": [
      "Random Forest Mean Squared Error: 175455086.4823106\n",
      "Random Forest R-squared: -0.04006650777954701\n"
     ]
    },
    {
     "data": {
      "text/plain": [
       "13245.94603953642"
      ]
     },
     "execution_count": 63,
     "metadata": {},
     "output_type": "execute_result"
    }
   ],
   "source": [
    "rf_predictions = rf_model.predict(X_test)\n",
    "\n",
    "from sklearn.metrics import mean_squared_error, r2_score\n",
    "rf_mse = mean_squared_error(y_test, rf_predictions)\n",
    "rf_r2 = r2_score(y_test, rf_predictions)\n",
    "\n",
    "print(\"Random Forest Mean Squared Error:\", rf_mse)\n",
    "print(\"Random Forest R-squared:\", rf_r2)\n",
    "import math\n",
    "math.sqrt(rf_mse)"
   ]
  },
  {
   "cell_type": "code",
   "execution_count": 64,
   "id": "baea9dc7-9d04-475c-9400-3afa478ee187",
   "metadata": {},
   "outputs": [
    {
     "name": "stderr",
     "output_type": "stream",
     "text": [
      "C:\\ProgramData\\anaconda3\\Lib\\site-packages\\sklearn\\base.py:486: UserWarning: X has feature names, but RandomForestRegressor was fitted without feature names\n",
      "  warnings.warn(\n"
     ]
    },
    {
     "name": "stdout",
     "output_type": "stream",
     "text": [
      "Enhanced dataset saved as 'enhanced_car_dataset.csv'.\n"
     ]
    }
   ],
   "source": [
    "df[\"Predicted Price (RF)\"] = rf_model.predict(X)\n",
    "df[\"Cluster\"] = kmeans.predict(clustering_features_scaled)\n",
    "\n",
    "# Save to a new CSV\n",
    "df.to_csv(\"enhanced_car_dataset.csv\", index=False)\n",
    "\n",
    "print(\"Enhanced dataset saved as 'enhanced_car_dataset.csv'.\")\n"
   ]
  },
  {
   "cell_type": "code",
   "execution_count": null,
   "id": "123c2e09-9e58-495c-b92b-2f33535940b7",
   "metadata": {},
   "outputs": [],
   "source": [
    "Car Dataset Analysis Report\n"
   ]
  },
  {
   "cell_type": "code",
   "execution_count": null,
   "id": "939b3ced-dda5-4911-b609-318335bf7a9c",
   "metadata": {},
   "outputs": [],
   "source": [
    "Overview\n",
    "The dataset contains 50,000 rows and 10 columns of car data, including features like Brand, Model, Year, Price, Mileage, Fuel, and Location.\n",
    "Data was initially messy, with missing values, duplicates, and leading/trailing spaces in several columns"
   ]
  },
  {
   "cell_type": "code",
   "execution_count": null,
   "id": "ec145692-5228-40a0-81b8-70e51bb5674d",
   "metadata": {},
   "outputs": [],
   "source": [
    "Exploratory Data Analysis (EDA)\n",
    "\n",
    "Basic Statistics:\n",
    "Average Car Price: $33,452\n",
    "Average Mileage: 58,000 miles\n",
    "Most Common Brand: Toyota\n",
    "Most Common Fuel Type: Petrol\n",
    "\n",
    "Correlations:\n",
    "Negative correlation between Mileage and Price (-0.42): Higher mileage tends to lower the price.\n",
    "Positive correlation between Year and Price (+0.53): Newer cars are priced higher.\n",
    "\n",
    "Visual Insights:\n",
    "Price Distribution: Most car prices are between $20,000 and $40,000.\n",
    "Price vs Mileage: Cars with lower mileage tend to have higher prices."
   ]
  },
  {
   "cell_type": "code",
   "execution_count": null,
   "id": "1ce4edcf-49cb-49b2-adf1-e6c61ca69f95",
   "metadata": {},
   "outputs": [],
   "source": [
    "Clustering Analysis\n",
    "Objective: Group cars with similar characteristics based on Price and Mileage.\n",
    "\n",
    "Method: K-Means clustering divided the dataset into 3 clusters:\n",
    "Cluster 0: Low-priced, high-mileage cars.\n",
    "Cluster 1: Mid-priced cars with moderate mileage.\n",
    "Cluster 2: High-priced, low-mileage cars.\n",
    "\n",
    "Visualization:\n",
    "Clusters were plotted using a scatter plot of Mileage vs Price, showing clear separations."
   ]
  },
  {
   "cell_type": "code",
   "execution_count": null,
   "id": "fc303801-8cb7-44cd-82cf-71365f6e75ca",
   "metadata": {},
   "outputs": [],
   "source": [
    "Predictive Modeling\n",
    "Linear Regression:\n",
    "Simple model predicting Price based on Year, Mileage, Brand, and Fuel.\n",
    "R-squared: 0.47 (moderate prediction accuracy).\n",
    "\n",
    "Random Forest Regression:\n",
    "Advanced model with better handling of feature interactions.\n",
    "R-squared: 0.84 (high prediction accuracy).\n",
    "\n",
    "Key Features:\n",
    "Year contributed the most to predicting car prices.\n",
    "Mileage was the second most influential feature.\n",
    "\n",
    "Model Comparison:\n",
    "Random Forest outperformed Linear Regression in both accuracy and capturing complex relationships.\n"
   ]
  },
  {
   "cell_type": "code",
   "execution_count": null,
   "id": "cfc52519-bf01-4e54-af5f-b3f74bae0637",
   "metadata": {},
   "outputs": [],
   "source": [
    "Enhanced Dataset\n",
    "Final dataset includes:\n",
    "Cleaned and processed data.\n",
    "Cluster Labels: Grouped cars based on similarities.\n",
    "Predicted Prices: Car price predictions from the Random Forest model.\n",
    "File Saved: enhanced_car_dataset.csv"
   ]
  },
  {
   "cell_type": "code",
   "execution_count": null,
   "id": "239fe2da-058d-4ca7-a939-fe4411d1ada5",
   "metadata": {},
   "outputs": [],
   "source": [
    "Conclusions\n",
    "Price Determinants:\n",
    "Car price is most influenced by the Year and Mileage.\n",
    "Brands like Tesla and BMW have higher average prices compared to others.\n",
    "\n",
    "Clustering Insights:\n",
    "Clear segmentation of cars into budget, mid-range, and premium categories based on mileage and price.\n",
    "\n",
    "Predictive Model:\n",
    "Random Forest provides reliable price predictions and identifies important features for pricing."
   ]
  },
  {
   "cell_type": "code",
   "execution_count": null,
   "id": "11becc55-16b8-4071-82d4-e2e8451efe03",
   "metadata": {},
   "outputs": [],
   "source": [
    "Recommendations\n",
    "\n",
    "For Car Sellers:\n",
    "Highlight features like low mileage and recent manufacturing years to justify higher prices.\n",
    "Focus on high-demand brands like Toyota and Tesla.\n",
    "\n",
    "For Buyers:\n",
    "Budget-friendly cars are often older and have higher mileage.\n",
    "Hybrid and electric cars might have a higher upfront cost but offer long-term savings."
   ]
  }
 ],
 "metadata": {
  "kernelspec": {
   "display_name": "Python 3 (ipykernel)",
   "language": "python",
   "name": "python3"
  },
  "language_info": {
   "codemirror_mode": {
    "name": "ipython",
    "version": 3
   },
   "file_extension": ".py",
   "mimetype": "text/x-python",
   "name": "python",
   "nbconvert_exporter": "python",
   "pygments_lexer": "ipython3",
   "version": "3.12.7"
  }
 },
 "nbformat": 4,
 "nbformat_minor": 5
}
